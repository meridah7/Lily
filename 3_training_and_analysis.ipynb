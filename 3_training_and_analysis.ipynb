{
  "cells": [
    {
      "cell_type": "markdown",
      "metadata": {
        "id": "view-in-github",
        "colab_type": "text"
      },
      "source": [
        "<a href=\"https://colab.research.google.com/github/meridah7/Lily/blob/main/3_training_and_analysis.ipynb\" target=\"_parent\"><img src=\"https://colab.research.google.com/assets/colab-badge.svg\" alt=\"Open In Colab\"/></a>"
      ]
    },
    {
      "cell_type": "markdown",
      "metadata": {
        "id": "z2nGDz0JliKU"
      },
      "source": [
        "# **3. Training and Testing**\n",
        "Please start early! Section 3.6 Training may take one to two hours to run."
      ]
    },
    {
      "cell_type": "markdown",
      "metadata": {
        "id": "c5U9gkiTnC4s"
      },
      "source": [
        "## 3.0 Setup GDrive and Git"
      ]
    },
    {
      "cell_type": "code",
      "execution_count": 2,
      "metadata": {
        "id": "WwcJax1zU04M",
        "outputId": "470b4f03-bbcd-4969-db5e-7df25e092590",
        "colab": {
          "base_uri": "https://localhost:8080/"
        }
      },
      "outputs": [
        {
          "output_type": "stream",
          "name": "stdout",
          "text": [
            "Mounted at /content/gdrive\n"
          ]
        }
      ],
      "source": [
        "# Mount google drive\n",
        "from google.colab import drive\n",
        "drive.mount('/content/gdrive')"
      ]
    },
    {
      "cell_type": "code",
      "execution_count": 5,
      "metadata": {
        "id": "NQklidVMU0-t"
      },
      "outputs": [],
      "source": [
        "# Make sure your token is stored in a txt file at the location below.\n",
        "# This way there is no risk that you will push it to your repo\n",
        "# Never share your token with anyone, it is basically your github password!\n",
        "with open('/content/gdrive/MyDrive/ece5545/token.txt') as f:\n",
        "    token = f.readline().strip()\n",
        "# Use another file to store your github username\n",
        "with open('/content/gdrive/MyDrive/ece5545/git_username.txt') as f:\n",
        "    handle = f.readline().strip()"
      ]
    },
    {
      "cell_type": "code",
      "execution_count": 7,
      "metadata": {
        "id": "7bdUCGFEU1Es",
        "outputId": "255b79e2-7b69-4ff5-a49c-f2a2a63e3bea",
        "colab": {
          "base_uri": "https://localhost:8080/"
        }
      },
      "outputs": [
        {
          "output_type": "stream",
          "name": "stdout",
          "text": [
            "mkdir: cannot create directory ‘/content/gdrive/MyDrive/ece5545’: File exists\n",
            "/content/gdrive/MyDrive/ece5545\n",
            "/content/gdrive/MyDrive/ece5545/a2-meridah7\n",
            "/content/gdrive/MyDrive/ece5545\n"
          ]
        }
      ],
      "source": [
        "# Clone your github repo\n",
        "YOUR_TOKEN = token\n",
        "YOUR_HANDLE = handle\n",
        "BRANCH = \"main\"\n",
        "\n",
        "%mkdir /content/gdrive/MyDrive/ece5545\n",
        "%cd /content/gdrive/MyDrive/ece5545\n",
        "# !git clone https://{YOUR_TOKEN}@github.com/ML-HW-SYS/a2-{YOUR_HANDLE}.git\n",
        "%cd /content/gdrive/MyDrive/ece5545/a2-{YOUR_HANDLE}\n",
        "# !git checkout {BRANCH}\n",
        "# !git pull\n",
        "%cd /content/gdrive/MyDrive/ece5545\n",
        "\n",
        "PROJECT_ROOT = f\"/content/gdrive/MyDrive/ece5545/a2-{YOUR_HANDLE}\""
      ]
    },
    {
      "cell_type": "code",
      "execution_count": 8,
      "metadata": {
        "id": "xHXYdHkzU1MX"
      },
      "outputs": [],
      "source": [
        "# This extension reloads all imports before running each cell\n",
        "%load_ext autoreload\n",
        "%autoreload 2"
      ]
    },
    {
      "cell_type": "markdown",
      "metadata": {
        "id": "t6zMfxIflRLB"
      },
      "source": [
        "### GPU\n",
        "\n",
        "Ensure you are running the GPU runtime type:\n",
        "1.   Click \"Runtime\" on top banner\n",
        "2.   Select \"Change runtime type\"\n",
        "3.   Under \"Hardware accelarator\" select \"GPU\" and save\n",
        "\n"
      ]
    },
    {
      "cell_type": "markdown",
      "metadata": {
        "id": "be4rOan-nHrF"
      },
      "source": [
        "### Import code dependencies"
      ]
    },
    {
      "cell_type": "code",
      "execution_count": null,
      "metadata": {
        "id": "aDDr3IrkliKY",
        "outputId": "66723d82-bc22-4c68-cb29-fdb5eee268c4",
        "colab": {
          "base_uri": "https://localhost:8080/"
        }
      },
      "outputs": [
        {
          "output_type": "stream",
          "name": "stdout",
          "text": [
            "Model folders are created, \n",
            "PyTorch models will be saved in /content/gdrive/MyDrive/ece5545/models/torch_models, \n",
            "ONNX models will be saved in /content/gdrive/MyDrive/ece5545/models/onnx_models, \n",
            "TensorFlow Saved Models will be saved in /content/gdrive/MyDrive/ece5545/models/tf_models, \n",
            "TensorFlow Lite models will be saved in /content/gdrive/MyDrive/ece5545/models/tflite_models, \n",
            "TensorFlow Lite Micro models will be saved in /content/gdrive/MyDrive/ece5545/models/micro_models.\n"
          ]
        }
      ],
      "source": [
        "import os\n",
        "import sys\n",
        "\n",
        "# Adding assignment 2 to the system path\n",
        "# -- make sure this matches your git directory\n",
        "sys.path.insert(0, PROJECT_ROOT)\n",
        "\n",
        "# Import libraries\n",
        "import torch\n",
        "import torch.nn as nn\n",
        "import torch.nn.functional as F\n",
        "import torch.optim as optim\n",
        "\n",
        "import matplotlib.pyplot as plt\n",
        "from tqdm.notebook import tqdm\n",
        "import numpy as np\n",
        "import copy\n",
        "\n",
        "# Import constants to use constants defined for training\n",
        "from src.constants import *\n",
        "# Import data_proc to use data processing functions\n",
        "import src.data_proc as data_proc\n",
        "\n",
        "random_seed = 0\n",
        "torch.manual_seed(random_seed)\n",
        "torch.cuda.manual_seed(random_seed)"
      ]
    },
    {
      "cell_type": "code",
      "source": [
        "!pwd\n",
        "%cd a2-meridah7/"
      ],
      "metadata": {
        "id": "dhkimyMR01vD",
        "outputId": "8a2e437c-d5f6-422d-e8b2-5e438ef1750e",
        "colab": {
          "base_uri": "https://localhost:8080/"
        }
      },
      "execution_count": 11,
      "outputs": [
        {
          "output_type": "stream",
          "name": "stdout",
          "text": [
            "/content/gdrive/MyDrive/ece5545\n",
            "/content/gdrive/MyDrive/ece5545/a2-meridah7\n"
          ]
        }
      ]
    },
    {
      "cell_type": "code",
      "source": [
        "!git config --global user.email \"meridahou7@gmail.com\"\n",
        "!git config --global user.name \"meridah7\"\n"
      ],
      "metadata": {
        "id": "ebMzX0om2LVI"
      },
      "execution_count": 14,
      "outputs": []
    },
    {
      "cell_type": "code",
      "source": [
        "!git add 3_training_and_analysis.ipynb\n",
        "!git rebase --continue\n"
      ],
      "metadata": {
        "id": "LVkbo26m2Ri7",
        "outputId": "1fdadfdf-a77f-4d3e-ec5a-b3ae6efa773f",
        "colab": {
          "base_uri": "https://localhost:8080/"
        }
      },
      "execution_count": null,
      "outputs": [
        {
          "output_type": "stream",
          "name": "stdout",
          "text": [
            "<tent/gdrive/MyDrive/ece5545/a2-meridah7/.git/COMMIT_EDITMSG\" 16L, 510B\u001b[2;1H▽\u001b[6n\u001b[2;1H  \u001b[3;1H\u001bPzz\u001b\\\u001b[0%m\u001b[6n\u001b[3;1H           \u001b[1;1H\u001b[>c\u001b]10;?\u0007\u001b]11;?\u0007\u001b[1;1H\u001b[33mupdate models data\u001b[m\u001b[2;1H\u001b[K\u001b[3;1H\u001b[34m# Please enter the commit message for your changes. Lines starting\u001b[m\u001b[3;67H\u001b[K\u001b[4;1H\u001b[34m# with '#' will be ignored, and an empty message aborts the commit.\n",
            "#\n",
            "# interactive rebase in progress; onto 89fa62d\n",
            "# \u001b[m\u001b[35mLast command done (1 command done):\u001b[m\n",
            "\u001b[34m#    pick b8a7ed6 update models data\n",
            "# No commands remaining.\n",
            "# You are currently rebasing branch 'main' on '89fa62d'.\n",
            "#\n",
            "# \u001b[m\u001b[35mChanges to be committed:\u001b[m\n",
            "\u001b[34m#       \u001b[m\u001b[32mmodified\u001b[m\u001b[34m: \u001b[m\u001b[31m  3_training_and_analysis.ipynb\u001b[m\n",
            "\u001b[34m#       \u001b[m\u001b[32mmodified\u001b[m\u001b[34m: \u001b[m\u001b[31m  4_model_conversion.ipynb\u001b[m\n",
            "\u001b[34m#       \u001b[m\u001b[32mmodified\u001b[m\u001b[34m: \u001b[m\u001b[31m  src/size_estimate.py\u001b[m\n",
            "\u001b[34m#\u001b[m\n",
            "\u001b[1m\u001b[34m~                                                                                                   \u001b[18;1H~                                                                                                   \u001b[19;1H~                                                                                                   \u001b[20;1H~                                                                                                   \u001b[21;1H~                                                                                                   \u001b[22;1H~                                                                                                   \u001b[23;1H~                                                                                                   \u001b[m\u001b[24;83H1,1\u001b[11CAll\u001b[1;1H\u001b[?25h"
          ]
        }
      ]
    },
    {
      "cell_type": "code",
      "source": [
        "!git push"
      ],
      "metadata": {
        "id": "s_sGnR-73EJR"
      },
      "execution_count": null,
      "outputs": []
    },
    {
      "cell_type": "code",
      "source": [
        "!git add .\n",
        "!git commit -m \"update models data\"\n",
        "!git push"
      ],
      "metadata": {
        "id": "9Dadge7L1m_P",
        "outputId": "608ab0e3-52a9-411e-f994-9047c0044e90",
        "colab": {
          "base_uri": "https://localhost:8080/"
        }
      },
      "execution_count": 15,
      "outputs": [
        {
          "output_type": "stream",
          "name": "stdout",
          "text": [
            "[main b8a7ed6] update models data\n",
            " 3 files changed, 23 insertions(+), 1092 deletions(-)\n",
            " rewrite 3_training_and_analysis.ipynb (100%)\n",
            " rewrite 4_model_conversion.ipynb (99%)\n",
            "To https://github.com/ML-HW-SYS/a2-meridah7.git\n",
            " \u001b[31m! [rejected]       \u001b[m main -> main (non-fast-forward)\n",
            "\u001b[31merror: failed to push some refs to 'https://github.com/ML-HW-SYS/a2-meridah7.git'\n",
            "\u001b[m\u001b[33mhint: Updates were rejected because the tip of your current branch is behind\u001b[m\n",
            "\u001b[33mhint: its remote counterpart. Integrate the remote changes (e.g.\u001b[m\n",
            "\u001b[33mhint: 'git pull ...') before pushing again.\u001b[m\n",
            "\u001b[33mhint: See the 'Note about fast-forwards' in 'git push --help' for details.\u001b[m\n"
          ]
        }
      ]
    },
    {
      "cell_type": "code",
      "source": [],
      "metadata": {
        "id": "97kQ-OI51-Vb"
      },
      "execution_count": null,
      "outputs": []
    },
    {
      "cell_type": "markdown",
      "metadata": {
        "id": "U7qaF1IEliKa"
      },
      "source": [
        "## 3.1 Download and Preprocess Data"
      ]
    },
    {
      "cell_type": "markdown",
      "metadata": {
        "id": "FLwsdGt_liKa"
      },
      "source": [
        "### Create audio processor\n",
        "This step is similar to what was done in part 2, so the files should already be downloaded in your Google Drive."
      ]
    },
    {
      "cell_type": "code",
      "execution_count": null,
      "metadata": {
        "id": "Xdc42fZiliKa",
        "outputId": "10107d8b-642a-40f9-e4e7-3efb15210c98",
        "colab": {
          "base_uri": "https://localhost:8080/"
        }
      },
      "outputs": [
        {
          "output_type": "stream",
          "name": "stdout",
          "text": [
            ">> Downloading speech_commands_v0.02.tar.gz 100.0%\n"
          ]
        }
      ],
      "source": [
        "# Create audio_processor\n",
        "audio_processor = data_proc.AudioProcessor()"
      ]
    },
    {
      "cell_type": "code",
      "source": [],
      "metadata": {
        "id": "frcp0Rh5ivP4"
      },
      "execution_count": null,
      "outputs": []
    },
    {
      "cell_type": "markdown",
      "metadata": {
        "id": "e53768H0liKf"
      },
      "source": [
        "### Select device: cuda or cpu"
      ]
    },
    {
      "cell_type": "code",
      "execution_count": null,
      "metadata": {
        "id": "UrpzLHRhliKf",
        "outputId": "fa160552-d75e-4196-8da1-11af98670a7f",
        "colab": {
          "base_uri": "https://localhost:8080/"
        }
      },
      "outputs": [
        {
          "output_type": "stream",
          "name": "stdout",
          "text": [
            "Using cuda to run the training scrpit.\n"
          ]
        }
      ],
      "source": [
        "# Define device\n",
        "device = torch.device(\"cuda\" if torch.cuda.is_available() else \"cpu\")\n",
        "print(f'Using {device} to run the training scrpit.')"
      ]
    },
    {
      "cell_type": "markdown",
      "metadata": {
        "id": "ViruC2uOnY3u"
      },
      "source": [
        "## 3.2 Data Loader"
      ]
    },
    {
      "cell_type": "code",
      "execution_count": null,
      "metadata": {
        "id": "3qYQMncTliKb",
        "outputId": "37c523af-1a51-4960-dbd3-c7a8699744c2",
        "colab": {
          "base_uri": "https://localhost:8080/"
        }
      },
      "outputs": [
        {
          "output_type": "stream",
          "name": "stdout",
          "text": [
            "Train size: 10556 Val size: 1333 Test size: 1368\n"
          ]
        }
      ],
      "source": [
        "# Define train, test, and validation set\n",
        "train_set = audio_processor.data_index['training']\n",
        "test_set = audio_processor.data_index['testing']\n",
        "valid_set = audio_processor.data_index['validation']\n",
        "\n",
        "# Define data loaders\n",
        "from src.loaders import make_data_loaders\n",
        "data_loaders = make_data_loaders(audio_processor, device)\n",
        "train_loader = data_loaders['training']\n",
        "test_loader = data_loaders['testing']\n",
        "valid_loader = data_loaders['validation']"
      ]
    },
    {
      "cell_type": "code",
      "source": [
        "\n",
        "print(\"----- Speech Commands Dataset Info -----\")\n",
        "print(\"Number of training samples:\", len(audio_processor.data_index[\"training\"]))\n",
        "print(\"Number of validation samples:\", len(audio_processor.data_index[\"validation\"]))\n",
        "print(\"Number of testing samples:\", len(audio_processor.data_index[\"testing\"]))\n",
        "\n",
        "if hasattr(audio_processor, 'wanted_words'):\n",
        "    print(\"Supported keywords:\", audio_processor.wanted_words)\n",
        "    print(\"Number of classes (including silence & unknown):\", len(audio_processor.wanted_words))\n",
        "else:\n",
        "    print(\"No attribute 'wanted_words' found in audio_processor. Please check your code or constants.\")\n"
      ],
      "metadata": {
        "id": "mNT37JSQjIIO",
        "outputId": "b2744917-cbe3-4ef6-f8eb-3a775fc5a9e4",
        "colab": {
          "base_uri": "https://localhost:8080/"
        }
      },
      "execution_count": null,
      "outputs": [
        {
          "output_type": "stream",
          "name": "stdout",
          "text": [
            "----- Speech Commands Dataset Info -----\n",
            "Number of training samples: 10556\n",
            "Number of validation samples: 1333\n",
            "Number of testing samples: 1368\n",
            "No attribute 'wanted_words' found in audio_processor. Please check your code or constants.\n"
          ]
        }
      ]
    },
    {
      "cell_type": "markdown",
      "metadata": {
        "id": "cBSyrbs6liKg"
      },
      "source": [
        "## 3.3 Define the Model"
      ]
    },
    {
      "cell_type": "code",
      "execution_count": null,
      "metadata": {
        "id": "OERV-lIDliKi",
        "outputId": "970a615f-b93d-4293-cb97-3e9ae2c6f6fd",
        "colab": {
          "base_uri": "https://localhost:8080/"
        }
      },
      "outputs": [
        {
          "output_type": "execute_result",
          "data": {
            "text/plain": [
              "TinyConv(\n",
              "  (conv_reshape): Reshape(output_shape=(-1, 1, 49, 40))\n",
              "  (conv): Conv2d(1, 8, kernel_size=(10, 8), stride=(2, 2), padding=(5, 3))\n",
              "  (relu): ReLU()\n",
              "  (dropout): Dropout(p=0.5, inplace=False)\n",
              "  (fc_reshape): Reshape(output_shape=(-1, 4000))\n",
              "  (fc): Linear(in_features=4000, out_features=4, bias=True)\n",
              "  (softmax): Softmax(dim=1)\n",
              ")"
            ]
          },
          "metadata": {},
          "execution_count": 9
        }
      ],
      "source": [
        "from src.networks import TinyConv\n",
        "# Create a full precision (float32) TinyConv model\n",
        "model_fp32 = TinyConv(\n",
        "    model_settings=audio_processor.model_settings,\n",
        "    n_input=1,\n",
        "    n_output=audio_processor.num_labels\n",
        ")\n",
        "model_fp32"
      ]
    },
    {
      "cell_type": "markdown",
      "metadata": {
        "id": "0PeiCwmdliKk"
      },
      "source": [
        "## 3.4 Training"
      ]
    },
    {
      "cell_type": "code",
      "execution_count": null,
      "metadata": {
        "id": "pTDNIHCqliKj"
      },
      "outputs": [],
      "source": [
        "from src.train_val_test_utils import train, test"
      ]
    },
    {
      "cell_type": "markdown",
      "metadata": {
        "id": "Fnk6TOA8rv7C"
      },
      "source": [
        "### Adjust parameters\n",
        "*   You can change *n_epoch* to use a different number training steps/epochs"
      ]
    },
    {
      "cell_type": "code",
      "execution_count": null,
      "metadata": {
        "id": "4twj3n1tliKk",
        "outputId": "59f00b2b-d690-4469-9bb4-30ac4422ca47",
        "colab": {
          "base_uri": "https://localhost:8080/"
        }
      },
      "outputs": [
        {
          "output_type": "stream",
          "name": "stdout",
          "text": [
            "# batches: 106 \n",
            "# epochs: 50 \n",
            "# total training steps: 5300\n"
          ]
        }
      ],
      "source": [
        "num_batches = len(train_loader)\n",
        "n_epoch = 50\n",
        "print(f'# batches: {num_batches} \\n# epochs: {n_epoch} \\n# total training steps: {num_batches * n_epoch}')"
      ]
    },
    {
      "cell_type": "markdown",
      "metadata": {
        "id": "Ps_AJaYKliKk"
      },
      "source": [
        "### Create optimizer for training\n",
        " Explore more at:\n",
        "[TORCH. OPTIM](https://pytorch.org/docs/stable/optim.html?highlight=torch%20optim%20lr_scheduler)"
      ]
    },
    {
      "cell_type": "code",
      "execution_count": null,
      "metadata": {
        "id": "VqVXUQzYliKk",
        "outputId": "ab13c8e8-b7b4-4002-e180-3f4a674f35d4",
        "colab": {
          "base_uri": "https://localhost:8080/"
        }
      },
      "outputs": [
        {
          "output_type": "stream",
          "name": "stdout",
          "text": [
            "{'state': {}, 'param_groups': [{'lr': 0.001, 'betas': (0.9, 0.999), 'eps': 1e-08, 'weight_decay': 0.0001, 'amsgrad': False, 'maximize': False, 'foreach': None, 'capturable': False, 'differentiable': False, 'fused': None, 'params': [0, 1, 2, 3]}]}\n"
          ]
        }
      ],
      "source": [
        "from src.train_val_test_utils import create_optimizer\n",
        "\n",
        "# Create optimizer\n",
        "optimizer_fp32 = create_optimizer(model=model_fp32, learning_rate=0.001)\n",
        "print(optimizer_fp32.state_dict())"
      ]
    },
    {
      "cell_type": "markdown",
      "metadata": {
        "id": "EX-iWv6Ash3R"
      },
      "source": [
        "### Train the model\n",
        "TensorBoard will allow you to visualize your results. The second code block, the training, will take a while to run."
      ]
    },
    {
      "cell_type": "code",
      "execution_count": null,
      "metadata": {
        "id": "DGag-bchliKl",
        "outputId": "9013f2e7-b11c-455d-9813-cb63e54c4f60",
        "colab": {
          "base_uri": "https://localhost:8080/",
          "height": 1000,
          "referenced_widgets": [
            "2f9a3d3ab34b46cf87a279d6e5952afd",
            "be197f6714764444a3d4f99f87c9d89b",
            "8328e17cb3914302aef6e2872534aead",
            "8651cdc19d574877813832d7d96c81b1",
            "0b22bab7ea704c3f9e92a63cdd0c9870",
            "5ae12eefb0464cf6bed9f8ed7b7d10a1",
            "d7e8000939b24792aea9a221cd887d49",
            "b19ec6192b954708ab781158939b207c",
            "4b213e9e10384fcfb2d6fe5af9cb559f",
            "fc9fc0b7d5f94265b8d437561fc6bcb2",
            "741f01280bab43558ecea60f6b1ff97b"
          ]
        }
      },
      "outputs": [
        {
          "output_type": "display_data",
          "data": {
            "text/plain": [
              "  0%|          | 0/50 [00:00<?, ?it/s]"
            ],
            "application/vnd.jupyter.widget-view+json": {
              "version_major": 2,
              "version_minor": 0,
              "model_id": "2f9a3d3ab34b46cf87a279d6e5952afd"
            }
          },
          "metadata": {}
        },
        {
          "output_type": "stream",
          "name": "stderr",
          "text": [
            "<ipython-input-13-0f09e9a81e5e>:12: FutureWarning: You are using `torch.load` with `weights_only=False` (the current default value), which uses the default pickle module implicitly. It is possible to construct malicious pickle data which will execute arbitrary code during unpickling (See https://github.com/pytorch/pytorch/blob/main/SECURITY.md#untrusted-models for more details). In a future release, the default value for `weights_only` will be flipped to `True`. This limits the functions that could be executed during unpickling. Arbitrary objects will no longer be allowed to be loaded via this mode unless they are explicitly allowlisted by the user via `torch.serialization.add_safe_globals`. We recommend you start setting `weights_only=True` for any use case where you don't have full control of the loaded file. Please open an issue on GitHub for any issues related to this experimental feature.\n",
            "  checkpoint = torch.load(checkpoint_path)\n"
          ]
        },
        {
          "output_type": "stream",
          "name": "stdout",
          "text": [
            "Val Acc Epoch 1 = 83.57%, Train loss = 1.06\n",
            "\n",
            "Valid epoch: 1\tAccuracy: 1100/1333 (82.52%)\n",
            "\n",
            "Val Acc Epoch 2 = 84.77%, Train loss = 0.562\n",
            "\n",
            "Valid epoch: 2\tAccuracy: 1136/1333 (85.22%)\n",
            "\n",
            "Val Acc Epoch 3 = 85.97%, Train loss = 0.489\n",
            "\n",
            "Valid epoch: 3\tAccuracy: 1156/1333 (86.72%)\n",
            "\n",
            "Val Acc Epoch 4 = 87.62%, Train loss = 0.47\n",
            "\n",
            "Valid epoch: 4\tAccuracy: 1164/1333 (87.32%)\n",
            "\n",
            "Val Acc Epoch 5 = 88.07%, Train loss = 0.446\n",
            "\n",
            "Valid epoch: 5\tAccuracy: 1171/1333 (87.85%)\n",
            "\n",
            "Val Acc Epoch 6 = 88.22%, Train loss = 0.439\n",
            "\n",
            "Valid epoch: 6\tAccuracy: 1174/1333 (88.07%)\n",
            "\n",
            "Val Acc Epoch 7 = 88.67%, Train loss = 0.427\n",
            "\n",
            "Valid epoch: 7\tAccuracy: 1194/1333 (89.57%)\n",
            "\n",
            "Val Acc Epoch 8 = 89.05%, Train loss = 0.405\n",
            "\n",
            "Valid epoch: 8\tAccuracy: 1184/1333 (88.82%)\n",
            "\n",
            "Val Acc Epoch 9 = 88.97%, Train loss = 0.401\n",
            "\n",
            "Valid epoch: 9\tAccuracy: 1196/1333 (89.72%)\n",
            "\n",
            "Val Acc Epoch 10 = 88.67%, Train loss = 0.401\n",
            "\n",
            "Valid epoch: 10\tAccuracy: 1193/1333 (89.50%)\n",
            "\n",
            "Val Acc Epoch 11 = 88.22%, Train loss = 0.41\n",
            "\n",
            "Valid epoch: 11\tAccuracy: 1177/1333 (88.30%)\n",
            "\n",
            "Val Acc Epoch 12 = 89.2%, Train loss = 0.397\n",
            "\n",
            "Valid epoch: 12\tAccuracy: 1190/1333 (89.27%)\n",
            "\n",
            "Val Acc Epoch 13 = 88.15%, Train loss = 0.392\n",
            "\n",
            "Valid epoch: 13\tAccuracy: 1183/1333 (88.75%)\n",
            "\n",
            "Val Acc Epoch 14 = 89.95%, Train loss = 0.392\n",
            "\n",
            "Valid epoch: 14\tAccuracy: 1171/1333 (87.85%)\n",
            "\n",
            "Val Acc Epoch 15 = 89.2%, Train loss = 0.386\n",
            "\n",
            "Valid epoch: 15\tAccuracy: 1196/1333 (89.72%)\n",
            "\n",
            "Val Acc Epoch 16 = 89.35%, Train loss = 0.378\n",
            "\n",
            "Valid epoch: 16\tAccuracy: 1192/1333 (89.42%)\n",
            "\n",
            "Val Acc Epoch 17 = 88.75%, Train loss = 0.385\n",
            "\n",
            "Valid epoch: 17\tAccuracy: 1186/1333 (88.97%)\n",
            "\n",
            "Val Acc Epoch 18 = 90.1%, Train loss = 0.374\n",
            "\n",
            "Valid epoch: 18\tAccuracy: 1203/1333 (90.25%)\n",
            "\n",
            "Val Acc Epoch 19 = 89.72%, Train loss = 0.368\n",
            "\n",
            "Valid epoch: 19\tAccuracy: 1216/1333 (91.22%)\n",
            "\n",
            "Val Acc Epoch 20 = 90.62%, Train loss = 0.37\n",
            "\n",
            "Valid epoch: 20\tAccuracy: 1208/1333 (90.62%)\n",
            "\n",
            "Val Acc Epoch 21 = 90.1%, Train loss = 0.37\n",
            "\n",
            "Valid epoch: 21\tAccuracy: 1191/1333 (89.35%)\n",
            "\n",
            "Val Acc Epoch 22 = 91.45%, Train loss = 0.36\n",
            "\n",
            "Valid epoch: 22\tAccuracy: 1207/1333 (90.55%)\n",
            "\n",
            "Val Acc Epoch 23 = 89.42%, Train loss = 0.375\n",
            "\n",
            "Valid epoch: 23\tAccuracy: 1204/1333 (90.32%)\n",
            "\n",
            "Val Acc Epoch 24 = 89.27%, Train loss = 0.373\n",
            "\n",
            "Valid epoch: 24\tAccuracy: 1190/1333 (89.27%)\n",
            "\n",
            "Val Acc Epoch 25 = 90.7%, Train loss = 0.371\n",
            "\n",
            "Valid epoch: 25\tAccuracy: 1201/1333 (90.10%)\n",
            "\n",
            "Val Acc Epoch 26 = 90.85%, Train loss = 0.368\n",
            "\n",
            "Valid epoch: 26\tAccuracy: 1209/1333 (90.70%)\n",
            "\n",
            "Val Acc Epoch 27 = 90.17%, Train loss = 0.352\n",
            "\n",
            "Valid epoch: 27\tAccuracy: 1198/1333 (89.87%)\n",
            "\n",
            "Val Acc Epoch 28 = 90.02%, Train loss = 0.354\n",
            "\n",
            "Valid epoch: 28\tAccuracy: 1201/1333 (90.10%)\n",
            "\n",
            "Val Acc Epoch 29 = 91.07%, Train loss = 0.352\n",
            "\n",
            "Valid epoch: 29\tAccuracy: 1204/1333 (90.32%)\n",
            "\n",
            "Val Acc Epoch 30 = 90.17%, Train loss = 0.358\n",
            "\n",
            "Valid epoch: 30\tAccuracy: 1210/1333 (90.77%)\n",
            "\n",
            "Val Acc Epoch 31 = 90.55%, Train loss = 0.35\n",
            "\n",
            "Valid epoch: 31\tAccuracy: 1210/1333 (90.77%)\n",
            "\n",
            "Val Acc Epoch 32 = 91.3%, Train loss = 0.358\n",
            "\n",
            "Valid epoch: 32\tAccuracy: 1224/1333 (91.82%)\n",
            "\n",
            "Val Acc Epoch 33 = 91.45%, Train loss = 0.348\n",
            "\n",
            "Valid epoch: 33\tAccuracy: 1219/1333 (91.45%)\n",
            "\n",
            "Val Acc Epoch 34 = 91.52%, Train loss = 0.349\n",
            "\n",
            "Valid epoch: 34\tAccuracy: 1202/1333 (90.17%)\n",
            "\n",
            "Val Acc Epoch 35 = 90.47%, Train loss = 0.34\n",
            "\n",
            "Valid epoch: 35\tAccuracy: 1220/1333 (91.52%)\n",
            "\n",
            "Val Acc Epoch 36 = 90.77%, Train loss = 0.361\n",
            "\n",
            "Valid epoch: 36\tAccuracy: 1207/1333 (90.55%)\n",
            "\n",
            "Val Acc Epoch 37 = 90.1%, Train loss = 0.343\n",
            "\n",
            "Valid epoch: 37\tAccuracy: 1221/1333 (91.60%)\n",
            "\n",
            "Val Acc Epoch 38 = 91.07%, Train loss = 0.341\n",
            "\n",
            "Valid epoch: 38\tAccuracy: 1211/1333 (90.85%)\n",
            "\n",
            "Val Acc Epoch 39 = 91.6%, Train loss = 0.332\n",
            "\n",
            "Valid epoch: 39\tAccuracy: 1218/1333 (91.37%)\n",
            "\n",
            "Val Acc Epoch 40 = 91.9%, Train loss = 0.342\n",
            "\n",
            "Valid epoch: 40\tAccuracy: 1232/1333 (92.42%)\n",
            "\n",
            "Val Acc Epoch 41 = 91.97%, Train loss = 0.346\n",
            "\n",
            "Valid epoch: 41\tAccuracy: 1222/1333 (91.67%)\n",
            "\n",
            "Val Acc Epoch 42 = 91.07%, Train loss = 0.336\n",
            "\n",
            "Valid epoch: 42\tAccuracy: 1215/1333 (91.15%)\n",
            "\n",
            "Val Acc Epoch 43 = 91.15%, Train loss = 0.35\n",
            "\n",
            "Valid epoch: 43\tAccuracy: 1218/1333 (91.37%)\n",
            "\n",
            "Val Acc Epoch 44 = 91.97%, Train loss = 0.332\n",
            "\n",
            "Valid epoch: 44\tAccuracy: 1226/1333 (91.97%)\n",
            "\n",
            "Val Acc Epoch 45 = 92.2%, Train loss = 0.335\n",
            "\n",
            "Valid epoch: 45\tAccuracy: 1218/1333 (91.37%)\n",
            "\n",
            "Val Acc Epoch 46 = 92.57%, Train loss = 0.342\n",
            "\n",
            "Valid epoch: 46\tAccuracy: 1234/1333 (92.57%)\n",
            "\n",
            "Val Acc Epoch 47 = 92.2%, Train loss = 0.336\n",
            "\n",
            "Valid epoch: 47\tAccuracy: 1233/1333 (92.50%)\n",
            "\n",
            "Val Acc Epoch 48 = 91.97%, Train loss = 0.328\n",
            "\n",
            "Valid epoch: 48\tAccuracy: 1212/1333 (90.92%)\n",
            "\n",
            "Val Acc Epoch 49 = 90.77%, Train loss = 0.335\n",
            "\n",
            "Valid epoch: 49\tAccuracy: 1208/1333 (90.62%)\n",
            "\n",
            "Val Acc Epoch 50 = 92.2%, Train loss = 0.337\n",
            "\n",
            "Valid epoch: 50\tAccuracy: 1220/1333 (91.52%)\n",
            "\n",
            "Test Acc = 90.57%\n"
          ]
        }
      ],
      "source": [
        "pbar_update = 1 / (len(train_loader) + len(test_loader) + len(valid_loader))\n",
        "\n",
        "def run_training(model, data_loaders, n_epoch, optimizer,\n",
        "                 save_interval=1, resume=True, checkpoint_path=None):\n",
        "    test_loader = data_loaders['testing']\n",
        "    with tqdm(total=n_epoch) as pbar:\n",
        "\n",
        "        completed_epoch = 1\n",
        "        if resume:\n",
        "            try:\n",
        "                #continue training with previous model if one exists\n",
        "                checkpoint = torch.load(checkpoint_path)\n",
        "                model.load_state_dict(checkpoint['model_state_dict'])\n",
        "                optimizer.load_state_dict(checkpoint['optimizer_state_dict'])\n",
        "                completed_epoch = checkpoint[\"epoch\"] + 1\n",
        "                model.eval()\n",
        "                pbar.update(completed_epoch)\n",
        "            except:\n",
        "                pass\n",
        "\n",
        "        last_valacc = 0\n",
        "        for epoch in range(completed_epoch, n_epoch + 1):\n",
        "            train_iters = len(data_loaders['training'])\n",
        "\n",
        "            train(model, data_loaders, optimizer,\n",
        "                      epoch, device)\n",
        "\n",
        "            valacc = test(valid_loader, model, device, epoch=epoch,\n",
        "                          loader_type='Valid', verbose=True)\n",
        "            #checkpoint the model every epoch\n",
        "            if epoch % save_interval == 0 and valacc > last_valacc:\n",
        "                last_valacc = valacc\n",
        "                torch.save({\n",
        "                    'epoch': epoch,\n",
        "                    'model_state_dict': model.state_dict(),\n",
        "                    'optimizer_state_dict': optimizer.state_dict()\n",
        "                }, checkpoint_path)\n",
        "\n",
        "            # Update epoch pbar\n",
        "            pbar.update(1)\n",
        "\n",
        "        testacc = test(test_loader, model, device,\n",
        "                     epoch=None, loader_type='Test')\n",
        "        print(f'Test Acc = {round(testacc,2)}%')\n",
        "\n",
        "\n",
        "# This is where your checkpoint file will be saved\n",
        "checkpoint_path = os.path.join(TORCH_DIR, \"fp32_checkpoint.pt\")\n",
        "\n",
        "model_fp32.to(device)\n",
        "run_training(\n",
        "    model=model_fp32, data_loaders=data_loaders,\n",
        "    n_epoch=n_epoch, optimizer=optimizer_fp32,\n",
        "    resume=True, checkpoint_path=checkpoint_path\n",
        ")"
      ]
    },
    {
      "cell_type": "code",
      "source": [
        "import matplotlib.pyplot as plt\n",
        "\n",
        "val_acc_epoch = [\n",
        "    83.57, 84.77, 85.97, 87.62, 88.07, 88.22, 88.67, 89.05, 88.97, 88.67,\n",
        "    88.22, 89.20, 88.15, 89.95, 89.20, 89.35, 88.75, 90.10, 89.72, 90.62,\n",
        "    90.10, 91.45, 89.42, 89.27, 90.70, 90.85, 90.17, 90.02, 91.07, 90.17,\n",
        "    90.55, 91.30, 91.45, 91.52, 90.47, 90.77, 90.10, 91.07, 91.60, 91.90,\n",
        "    91.97, 91.07, 91.15, 91.97, 92.20, 92.57, 92.20, 91.97, 90.77, 92.20\n",
        "]\n",
        "\n",
        "\n",
        "valid_epoch_acc = [\n",
        "    82.52, 85.22, 86.72, 87.32, 87.85, 88.07, 89.57, 88.82, 89.72, 89.50,\n",
        "    88.30, 89.27, 88.75, 87.85, 89.72, 89.42, 88.97, 90.25, 91.22, 90.62,\n",
        "    89.35, 90.55, 90.32, 89.27, 90.10, 90.70, 89.87, 90.10, 90.32, 90.77,\n",
        "    90.77, 91.82, 91.45, 90.17, 91.52, 90.55, 91.60, 90.85, 91.37, 92.42,\n",
        "    91.67, 91.15, 91.37, 91.97, 91.37, 92.57, 92.50, 90.92, 90.62, 91.52\n",
        "]\n",
        "\n",
        "epochs = list(range(1, len(val_acc_epoch) + 1))\n",
        "\n",
        "plt.figure(figsize=(10, 6))\n",
        "plt.plot(epochs, val_acc_epoch, label=\"Val Acc (Epoch Report)\", marker='o')\n",
        "plt.plot(epochs, valid_epoch_acc, label=\"Valid Epoch Accuracy\", marker='s')\n",
        "plt.xlabel(\"Epoch\")\n",
        "plt.ylabel(\"Accuracy (%)\")\n",
        "plt.title(\"Validation Accuracy Over Epochs\")\n",
        "plt.legend()\n",
        "plt.grid(True)\n",
        "plt.show()\n"
      ],
      "metadata": {
        "id": "GOpRhgYKgm4j",
        "outputId": "541b7584-926f-40f1-f53a-0695032aabf3",
        "colab": {
          "base_uri": "https://localhost:8080/",
          "height": 564
        }
      },
      "execution_count": null,
      "outputs": [
        {
          "output_type": "display_data",
          "data": {
            "text/plain": [
              "<Figure size 1000x600 with 1 Axes>"
            ],
            "image/png": "[encoded data removed]"
          },
          "metadata": {}
        }
      ]
    },
    {
      "cell_type": "markdown",
      "metadata": {
        "id": "Qg1WlG-rliKl"
      },
      "source": [
        "## 3.5 Testing"
      ]
    },
    {
      "cell_type": "markdown",
      "metadata": {
        "id": "oYgFvfYAliKm"
      },
      "source": [
        "### Calculating accuracy\n"
      ]
    },
    {
      "cell_type": "code",
      "execution_count": null,
      "metadata": {
        "id": "9PtKvJH_liKm",
        "outputId": "98b99389-f596-4711-bd84-9126887bcc63",
        "colab": {
          "base_uri": "https://localhost:8080/",
          "height": 1000
        }
      },
      "outputs": [
        {
          "output_type": "stream",
          "name": "stdout",
          "text": [
            "Train size: 10556 Val size: 1333 Test size: 1368\n"
          ]
        },
        {
          "output_type": "display_data",
          "data": {
            "text/plain": [
              "<Figure size 640x480 with 1 Axes>"
            ],
            "image/png": "[encoded data removed]"
          },
          "metadata": {}
        },
        {
          "output_type": "display_data",
          "data": {
            "text/plain": [
              "<Figure size 640x480 with 1 Axes>"
            ],
            "image/png": "[encoded data removed]"
          },
          "metadata": {}
        },
        {
          "output_type": "display_data",
          "data": {
            "text/plain": [
              "<Figure size 640x480 with 1 Axes>"
            ],
            "image/png": "[encoded data removed]"
          },
          "metadata": {}
        }
      ],
      "source": [
        "from src.train_val_test_utils import plot_acc\n",
        "\n",
        "test_time_data_loaders = make_data_loaders(\n",
        "    audio_processor, device,\n",
        "    test_batch_size=1, valid_batch_size=1,\n",
        "    num_workers=0\n",
        ")\n",
        "\n",
        "plot_acc(\n",
        "    test_time_data_loaders['validation'], model_fp32, audio_processor, device,\n",
        "    \"validation\", 'float32 TinyConv', \"float\")\n",
        "plot_acc(\n",
        "    test_time_data_loaders['training'], model_fp32, audio_processor, device,\n",
        "    \"training\", 'float32 TinyConv', \"float\")\n",
        "acc = plot_acc(\n",
        "    test_time_data_loaders['testing'], model_fp32, audio_processor, device,\n",
        "    'testing', 'float32 TinyConv', \"float\")"
      ]
    },
    {
      "cell_type": "markdown",
      "metadata": {
        "id": "_tMzxb-jliKm"
      },
      "source": [
        "## 3.6 Save the Trained Model"
      ]
    },
    {
      "cell_type": "code",
      "execution_count": null,
      "metadata": {
        "id": "zqC6fEoUliKm"
      },
      "outputs": [],
      "source": [
        "def choose_name(model_name):\n",
        "    name = f\"{model_name}_\" + \"{index}\"\n",
        "    i = 0\n",
        "    while os.path.isfile(name.format(index=i)):\n",
        "        i += 1\n",
        "    name = name.format(index = i)\n",
        "    print(f\"The model's will be stored as: \\n {name}\")\n",
        "    return name\n",
        "\n",
        "def save_model(model, path):\n",
        "    torch.save(model.state_dict(), path)"
      ]
    },
    {
      "cell_type": "code",
      "execution_count": null,
      "metadata": {
        "id": "VVKrP45aliKm",
        "outputId": "4964894c-4df7-4ee9-973b-907b12596149",
        "colab": {
          "base_uri": "https://localhost:8080/",
          "height": 70
        }
      },
      "outputs": [
        {
          "output_type": "stream",
          "name": "stdout",
          "text": [
            "The model's will be stored as: \n",
            " tinyconv_float32_init_seed0_90.28%_0\n"
          ]
        },
        {
          "output_type": "execute_result",
          "data": {
            "text/plain": [
              "'/content/gdrive/MyDrive/ece5545/models/torch_models/tinyconv_float32_init_seed0_90.28%_0.pt'"
            ],
            "application/vnd.google.colaboratory.intrinsic+json": {
              "type": "string"
            }
          },
          "metadata": {},
          "execution_count": 16
        }
      ],
      "source": [
        "# Choose a path\n",
        "# You can also define your own path\n",
        "model_name = f\"tinyconv_float32_init_seed{torch.initial_seed()}_{acc * 100:.2f}%\"\n",
        "file_name = choose_name(model_name)\n",
        "torch_path = os.path.join(TORCH_DIR, f'{file_name}.pt')\n",
        "torch_path"
      ]
    },
    {
      "cell_type": "code",
      "execution_count": null,
      "metadata": {
        "id": "JHgqZ8yXliKn",
        "outputId": "ab829891-27f4-489e-bceb-17db6c6ac22a",
        "colab": {
          "base_uri": "https://localhost:8080/",
          "height": 35
        }
      },
      "outputs": [
        {
          "output_type": "execute_result",
          "data": {
            "text/plain": [
              "'Saved!'"
            ],
            "application/vnd.google.colaboratory.intrinsic+json": {
              "type": "string"
            }
          },
          "metadata": {},
          "execution_count": 17
        }
      ],
      "source": [
        "# Save the trained pytorch model to torch_path\n",
        "save_model(model_fp32, torch_path)\n",
        "'Saved!'"
      ]
    },
    {
      "cell_type": "code",
      "execution_count": null,
      "metadata": {
        "id": "CnJHbwj0UAi5"
      },
      "outputs": [],
      "source": [
        "'You can now find your model in %s under the folder icon to the left.' % torch_path"
      ]
    },
    {
      "cell_type": "code",
      "execution_count": null,
      "metadata": {
        "id": "kauQRx68xaeo"
      },
      "outputs": [],
      "source": []
    }
  ],
  "metadata": {
    "accelerator": "GPU",
    "colab": {
      "name": "3_training_and_analysis.ipynb",
      "provenance": [],
      "include_colab_link": true
    },
    "interpreter": {
      "hash": "92bf126df007708fd70c442c808ee74575bedf7ea6317e0b182c3af0184af25d"
    },
    "kernelspec": {
      "display_name": "Python 3",
      "name": "python3"
    },
    "language_info": {
      "name": "python"
    },
    "widgets": {
      "application/vnd.jupyter.widget-state+json": {
        "2f9a3d3ab34b46cf87a279d6e5952afd": {
          "model_module": "@jupyter-widgets/controls",
          "model_name": "HBoxModel",
          "model_module_version": "1.5.0",
          "state": {
            "_dom_classes": [],
            "_model_module": "@jupyter-widgets/controls",
            "_model_module_version": "1.5.0",
            "_model_name": "HBoxModel",
            "_view_count": null,
            "_view_module": "@jupyter-widgets/controls",
            "_view_module_version": "1.5.0",
            "_view_name": "HBoxView",
            "box_style": "",
            "children": [
              "IPY_MODEL_be197f6714764444a3d4f99f87c9d89b",
              "IPY_MODEL_8328e17cb3914302aef6e2872534aead",
              "IPY_MODEL_8651cdc19d574877813832d7d96c81b1"
            ],
            "layout": "IPY_MODEL_0b22bab7ea704c3f9e92a63cdd0c9870"
          }
        },
        "be197f6714764444a3d4f99f87c9d89b": {
          "model_module": "@jupyter-widgets/controls",
          "model_name": "HTMLModel",
          "model_module_version": "1.5.0",
          "state": {
            "_dom_classes": [],
            "_model_module": "@jupyter-widgets/controls",
            "_model_module_version": "1.5.0",
            "_model_name": "HTMLModel",
            "_view_count": null,
            "_view_module": "@jupyter-widgets/controls",
            "_view_module_version": "1.5.0",
            "_view_name": "HTMLView",
            "description": "",
            "description_tooltip": null,
            "layout": "IPY_MODEL_5ae12eefb0464cf6bed9f8ed7b7d10a1",
            "placeholder": "​",
            "style": "IPY_MODEL_d7e8000939b24792aea9a221cd887d49",
            "value": "100%"
          }
        },
        "8328e17cb3914302aef6e2872534aead": {
          "model_module": "@jupyter-widgets/controls",
          "model_name": "FloatProgressModel",
          "model_module_version": "1.5.0",
          "state": {
            "_dom_classes": [],
            "_model_module": "@jupyter-widgets/controls",
            "_model_module_version": "1.5.0",
            "_model_name": "FloatProgressModel",
            "_view_count": null,
            "_view_module": "@jupyter-widgets/controls",
            "_view_module_version": "1.5.0",
            "_view_name": "ProgressView",
            "bar_style": "success",
            "description": "",
            "description_tooltip": null,
            "layout": "IPY_MODEL_b19ec6192b954708ab781158939b207c",
            "max": 50,
            "min": 0,
            "orientation": "horizontal",
            "style": "IPY_MODEL_4b213e9e10384fcfb2d6fe5af9cb559f",
            "value": 50
          }
        },
        "8651cdc19d574877813832d7d96c81b1": {
          "model_module": "@jupyter-widgets/controls",
          "model_name": "HTMLModel",
          "model_module_version": "1.5.0",
          "state": {
            "_dom_classes": [],
            "_model_module": "@jupyter-widgets/controls",
            "_model_module_version": "1.5.0",
            "_model_name": "HTMLModel",
            "_view_count": null,
            "_view_module": "@jupyter-widgets/controls",
            "_view_module_version": "1.5.0",
            "_view_name": "HTMLView",
            "description": "",
            "description_tooltip": null,
            "layout": "IPY_MODEL_fc9fc0b7d5f94265b8d437561fc6bcb2",
            "placeholder": "​",
            "style": "IPY_MODEL_741f01280bab43558ecea60f6b1ff97b",
            "value": " 50/50 [1:05:12&lt;00:00, 78.16s/it]"
          }
        },
        "0b22bab7ea704c3f9e92a63cdd0c9870": {
          "model_module": "@jupyter-widgets/base",
          "model_name": "LayoutModel",
          "model_module_version": "1.2.0",
          "state": {
            "_model_module": "@jupyter-widgets/base",
            "_model_module_version": "1.2.0",
            "_model_name": "LayoutModel",
            "_view_count": null,
            "_view_module": "@jupyter-widgets/base",
            "_view_module_version": "1.2.0",
            "_view_name": "LayoutView",
            "align_content": null,
            "align_items": null,
            "align_self": null,
            "border": null,
            "bottom": null,
            "display": null,
            "flex": null,
            "flex_flow": null,
            "grid_area": null,
            "grid_auto_columns": null,
            "grid_auto_flow": null,
            "grid_auto_rows": null,
            "grid_column": null,
            "grid_gap": null,
            "grid_row": null,
            "grid_template_areas": null,
            "grid_template_columns": null,
            "grid_template_rows": null,
            "height": null,
            "justify_content": null,
            "justify_items": null,
            "left": null,
            "margin": null,
            "max_height": null,
            "max_width": null,
            "min_height": null,
            "min_width": null,
            "object_fit": null,
            "object_position": null,
            "order": null,
            "overflow": null,
            "overflow_x": null,
            "overflow_y": null,
            "padding": null,
            "right": null,
            "top": null,
            "visibility": null,
            "width": null
          }
        },
        "5ae12eefb0464cf6bed9f8ed7b7d10a1": {
          "model_module": "@jupyter-widgets/base",
          "model_name": "LayoutModel",
          "model_module_version": "1.2.0",
          "state": {
            "_model_module": "@jupyter-widgets/base",
            "_model_module_version": "1.2.0",
            "_model_name": "LayoutModel",
            "_view_count": null,
            "_view_module": "@jupyter-widgets/base",
            "_view_module_version": "1.2.0",
            "_view_name": "LayoutView",
            "align_content": null,
            "align_items": null,
            "align_self": null,
            "border": null,
            "bottom": null,
            "display": null,
            "flex": null,
            "flex_flow": null,
            "grid_area": null,
            "grid_auto_columns": null,
            "grid_auto_flow": null,
            "grid_auto_rows": null,
            "grid_column": null,
            "grid_gap": null,
            "grid_row": null,
            "grid_template_areas": null,
            "grid_template_columns": null,
            "grid_template_rows": null,
            "height": null,
            "justify_content": null,
            "justify_items": null,
            "left": null,
            "margin": null,
            "max_height": null,
            "max_width": null,
            "min_height": null,
            "min_width": null,
            "object_fit": null,
            "object_position": null,
            "order": null,
            "overflow": null,
            "overflow_x": null,
            "overflow_y": null,
            "padding": null,
            "right": null,
            "top": null,
            "visibility": null,
            "width": null
          }
        },
        "d7e8000939b24792aea9a221cd887d49": {
          "model_module": "@jupyter-widgets/controls",
          "model_name": "DescriptionStyleModel",
          "model_module_version": "1.5.0",
          "state": {
            "_model_module": "@jupyter-widgets/controls",
            "_model_module_version": "1.5.0",
            "_model_name": "DescriptionStyleModel",
            "_view_count": null,
            "_view_module": "@jupyter-widgets/base",
            "_view_module_version": "1.2.0",
            "_view_name": "StyleView",
            "description_width": ""
          }
        },
        "b19ec6192b954708ab781158939b207c": {
          "model_module": "@jupyter-widgets/base",
          "model_name": "LayoutModel",
          "model_module_version": "1.2.0",
          "state": {
            "_model_module": "@jupyter-widgets/base",
            "_model_module_version": "1.2.0",
            "_model_name": "LayoutModel",
            "_view_count": null,
            "_view_module": "@jupyter-widgets/base",
            "_view_module_version": "1.2.0",
            "_view_name": "LayoutView",
            "align_content": null,
            "align_items": null,
            "align_self": null,
            "border": null,
            "bottom": null,
            "display": null,
            "flex": null,
            "flex_flow": null,
            "grid_area": null,
            "grid_auto_columns": null,
            "grid_auto_flow": null,
            "grid_auto_rows": null,
            "grid_column": null,
            "grid_gap": null,
            "grid_row": null,
            "grid_template_areas": null,
            "grid_template_columns": null,
            "grid_template_rows": null,
            "height": null,
            "justify_content": null,
            "justify_items": null,
            "left": null,
            "margin": null,
            "max_height": null,
            "max_width": null,
            "min_height": null,
            "min_width": null,
            "object_fit": null,
            "object_position": null,
            "order": null,
            "overflow": null,
            "overflow_x": null,
            "overflow_y": null,
            "padding": null,
            "right": null,
            "top": null,
            "visibility": null,
            "width": null
          }
        },
        "4b213e9e10384fcfb2d6fe5af9cb559f": {
          "model_module": "@jupyter-widgets/controls",
          "model_name": "ProgressStyleModel",
          "model_module_version": "1.5.0",
          "state": {
            "_model_module": "@jupyter-widgets/controls",
            "_model_module_version": "1.5.0",
            "_model_name": "ProgressStyleModel",
            "_view_count": null,
            "_view_module": "@jupyter-widgets/base",
            "_view_module_version": "1.2.0",
            "_view_name": "StyleView",
            "bar_color": null,
            "description_width": ""
          }
        },
        "fc9fc0b7d5f94265b8d437561fc6bcb2": {
          "model_module": "@jupyter-widgets/base",
          "model_name": "LayoutModel",
          "model_module_version": "1.2.0",
          "state": {
            "_model_module": "@jupyter-widgets/base",
            "_model_module_version": "1.2.0",
            "_model_name": "LayoutModel",
            "_view_count": null,
            "_view_module": "@jupyter-widgets/base",
            "_view_module_version": "1.2.0",
            "_view_name": "LayoutView",
            "align_content": null,
            "align_items": null,
            "align_self": null,
            "border": null,
            "bottom": null,
            "display": null,
            "flex": null,
            "flex_flow": null,
            "grid_area": null,
            "grid_auto_columns": null,
            "grid_auto_flow": null,
            "grid_auto_rows": null,
            "grid_column": null,
            "grid_gap": null,
            "grid_row": null,
            "grid_template_areas": null,
            "grid_template_columns": null,
            "grid_template_rows": null,
            "height": null,
            "justify_content": null,
            "justify_items": null,
            "left": null,
            "margin": null,
            "max_height": null,
            "max_width": null,
            "min_height": null,
            "min_width": null,
            "object_fit": null,
            "object_position": null,
            "order": null,
            "overflow": null,
            "overflow_x": null,
            "overflow_y": null,
            "padding": null,
            "right": null,
            "top": null,
            "visibility": null,
            "width": null
          }
        },
        "741f01280bab43558ecea60f6b1ff97b": {
          "model_module": "@jupyter-widgets/controls",
          "model_name": "DescriptionStyleModel",
          "model_module_version": "1.5.0",
          "state": {
            "_model_module": "@jupyter-widgets/controls",
            "_model_module_version": "1.5.0",
            "_model_name": "DescriptionStyleModel",
            "_view_count": null,
            "_view_module": "@jupyter-widgets/base",
            "_view_module_version": "1.2.0",
            "_view_name": "StyleView",
            "description_width": ""
          }
        }
      }
    }
  },
  "nbformat": 4,
  "nbformat_minor": 0
}